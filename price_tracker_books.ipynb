{
  "nbformat": 4,
  "nbformat_minor": 0,
  "metadata": {
    "colab": {
      "provenance": [],
      "authorship_tag": "ABX9TyM7afQdq/6eWqsUIQonB8dZ",
      "include_colab_link": true
    },
    "kernelspec": {
      "name": "python3",
      "display_name": "Python 3"
    },
    "language_info": {
      "name": "python"
    }
  },
  "cells": [
    {
      "cell_type": "markdown",
      "metadata": {
        "id": "view-in-github",
        "colab_type": "text"
      },
      "source": [
        "<a href=\"https://colab.research.google.com/github/Kevin-2099/price-tracker-books/blob/main/price_tracker_books.ipynb\" target=\"_parent\"><img src=\"https://colab.research.google.com/assets/colab-badge.svg\" alt=\"Open In Colab\"/></a>"
      ]
    },
    {
      "cell_type": "code",
      "execution_count": 8,
      "metadata": {
        "colab": {
          "base_uri": "https://localhost:8080/",
          "height": 52
        },
        "id": "-zhmjuvCNdSf",
        "outputId": "9597f746-e0bd-4066-8b1f-6fd5e5ecba40"
      },
      "outputs": [
        {
          "output_type": "stream",
          "name": "stdout",
          "text": [
            "2025-06-21 | A Light in the Attic | £51.77\n",
            "✅ Registro guardado en 'price_history.csv'\n"
          ]
        },
        {
          "output_type": "display_data",
          "data": {
            "text/plain": [
              "<IPython.core.display.Javascript object>"
            ],
            "application/javascript": [
              "\n",
              "    async function download(id, filename, size) {\n",
              "      if (!google.colab.kernel.accessAllowed) {\n",
              "        return;\n",
              "      }\n",
              "      const div = document.createElement('div');\n",
              "      const label = document.createElement('label');\n",
              "      label.textContent = `Downloading \"${filename}\": `;\n",
              "      div.appendChild(label);\n",
              "      const progress = document.createElement('progress');\n",
              "      progress.max = size;\n",
              "      div.appendChild(progress);\n",
              "      document.body.appendChild(div);\n",
              "\n",
              "      const buffers = [];\n",
              "      let downloaded = 0;\n",
              "\n",
              "      const channel = await google.colab.kernel.comms.open(id);\n",
              "      // Send a message to notify the kernel that we're ready.\n",
              "      channel.send({})\n",
              "\n",
              "      for await (const message of channel.messages) {\n",
              "        // Send a message to notify the kernel that we're ready.\n",
              "        channel.send({})\n",
              "        if (message.buffers) {\n",
              "          for (const buffer of message.buffers) {\n",
              "            buffers.push(buffer);\n",
              "            downloaded += buffer.byteLength;\n",
              "            progress.value = downloaded;\n",
              "          }\n",
              "        }\n",
              "      }\n",
              "      const blob = new Blob(buffers, {type: 'application/binary'});\n",
              "      const a = document.createElement('a');\n",
              "      a.href = window.URL.createObjectURL(blob);\n",
              "      a.download = filename;\n",
              "      div.appendChild(a);\n",
              "      a.click();\n",
              "      div.remove();\n",
              "    }\n",
              "  "
            ]
          },
          "metadata": {}
        },
        {
          "output_type": "display_data",
          "data": {
            "text/plain": [
              "<IPython.core.display.Javascript object>"
            ],
            "application/javascript": [
              "download(\"download_5abed589-7ecd-43ec-99ba-1520c015073a\", \"price_history.csv\", 251)"
            ]
          },
          "metadata": {}
        }
      ],
      "source": [
        "import requests\n",
        "from bs4 import BeautifulSoup\n",
        "import pandas as pd\n",
        "from datetime import datetime\n",
        "import os\n",
        "from google.colab import files\n",
        "\n",
        "# URL del producto\n",
        "URL = \"https://books.toscrape.com/catalogue/a-light-in-the-attic_1000/index.html\"\n",
        "\n",
        "# Headers simulando navegador\n",
        "HEADERS = {\n",
        "    \"User-Agent\": \"Mozilla/5.0\"\n",
        "}\n",
        "\n",
        "# Hacer la solicitud\n",
        "response = requests.get(URL, headers=HEADERS)\n",
        "\n",
        "# Parsear el HTML\n",
        "soup = BeautifulSoup(response.content, \"html.parser\")\n",
        "\n",
        "# Extraer nombre y precio\n",
        "product_name = soup.find(\"div\", class_=\"product_main\").h1.text.strip()\n",
        "price_raw = soup.find(\"p\", class_=\"price_color\").text.strip()\n",
        "price = float(price_raw[1:])  # Quitar el símbolo £\n",
        "\n",
        "# Fecha actual\n",
        "today = datetime.today().strftime(\"%Y-%m-%d\")\n",
        "\n",
        "# Datos\n",
        "data = {\n",
        "    \"date\": today,\n",
        "    \"product\": product_name,\n",
        "    \"price_gbp\": price\n",
        "}\n",
        "\n",
        "# Mostrar\n",
        "print(f\"{today} | {product_name} | £{price}\")\n",
        "\n",
        "# Guardar en CSV\n",
        "filename = \"price_history.csv\"\n",
        "\n",
        "if os.path.exists(filename):\n",
        "    df_old = pd.read_csv(filename)\n",
        "    df_new = pd.DataFrame([data])\n",
        "    df_all = pd.concat([df_old, df_new], ignore_index=True)\n",
        "    df_all.to_csv(filename, index=False)\n",
        "else:\n",
        "    pd.DataFrame([data]).to_csv(filename, index=False)\n",
        "\n",
        "print(\"✅ Registro guardado en 'price_history.csv'\")\n",
        "\n",
        "# Descargar el archivo CSV automáticamente en Colab\n",
        "files.download(filename)\n"
      ]
    }
  ]
}